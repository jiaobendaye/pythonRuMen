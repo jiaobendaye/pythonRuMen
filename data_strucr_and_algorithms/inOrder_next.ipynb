{
 "cells": [
  {
   "cell_type": "code",
   "execution_count": 25,
   "metadata": {},
   "outputs": [],
   "source": [
    "class Node(object):\n",
    "    def __init__(self, item):\n",
    "        self.elem = item\n",
    "        self.lchild = None\n",
    "        self.rchild = None\n",
    "        self.parent = None\n",
    "\n",
    "class TreeWithParent(object):\n",
    "    def __init__(self):\n",
    "        self.root = None\n",
    "    \n",
    "    def add(self, item):\n",
    "        node = Node(item)\n",
    "        queue = [self.root]\n",
    "        if self.root is None:\n",
    "            self.root = node\n",
    "            return\n",
    "        \n",
    "        while queue:\n",
    "            cur_node = queue.pop(0)\n",
    "            if cur_node.lchild is None:\n",
    "                cur_node.lchild = node\n",
    "                node.parent = cur_node\n",
    "                print('add\\t', node.elem)\n",
    "                return\n",
    "            else:\n",
    "                queue.append(cur_node.lchild)\n",
    "            if cur_node.rchild is None:\n",
    "                cur_node.rchild = node\n",
    "                node.parent = cur_node\n",
    "                print('add\\t', node.elem)\n",
    "                return\n",
    "            else:\n",
    "                queue.append(cur_node.rchild)\n",
    "    def BFS(self):\n",
    "        queue = [self.root]\n",
    "        while queue:\n",
    "            cur_node = queue.pop(0)\n",
    "            print(cur_node.elem)\n",
    "            if cur_node.lchild is not None:\n",
    "                queue.append(cur_node.lchild)\n",
    "\n",
    "            if cur_node.rchild is not None:\n",
    "                queue.append(cur_node.rchild)    \n",
    "    def bfs(self):\n",
    "        queue = [self.root]\n",
    "        while queue:\n",
    "            for _ in range(len(queue)):\n",
    "                cur_node = queue.pop(0)\n",
    "                print(cur_node.elem)\n",
    "                if cur_node.lchild is not None:\n",
    "                    queue.append(cur_node.lchild)\n",
    "\n",
    "                if cur_node.rchild is not None:\n",
    "                    queue.append(cur_node.rchild)  \n",
    "            print('------------')\n",
    "    def inOrder_next(self, node):\n",
    "        if not node: return node\n",
    "        \n",
    "        if node.rchild:\n",
    "            return self.first(node.rchild)\n",
    "        else:\n",
    "            while node.parent and node.parent.lchild is not node:\n",
    "                node = node.parent\n",
    "            return node.parent\n",
    "    \n",
    "    def first(self, node):\n",
    "        if not node:\n",
    "            return\n",
    "        while node.lchild:\n",
    "            node = node.lchild\n",
    "        return node\n",
    "    \n",
    "    def print_post(self):\n",
    "        node = self.first(self.root)\n",
    "        while node:\n",
    "            print(node.elem)\n",
    "            node = self.inOrder_next(node)"
   ]
  },
  {
   "cell_type": "code",
   "execution_count": 26,
   "metadata": {},
   "outputs": [],
   "source": [
    "tree = TreeWithParent()"
   ]
  },
  {
   "cell_type": "code",
   "execution_count": 27,
   "metadata": {},
   "outputs": [
    {
     "name": "stdout",
     "output_type": "stream",
     "text": [
      "add\t 1\n",
      "add\t 2\n",
      "add\t 3\n",
      "add\t 4\n",
      "add\t 5\n",
      "add\t 6\n",
      "add\t 7\n",
      "add\t 8\n",
      "add\t 9\n"
     ]
    }
   ],
   "source": [
    "for i in range(10):\n",
    "    tree.add(i)"
   ]
  },
  {
   "cell_type": "code",
   "execution_count": 28,
   "metadata": {},
   "outputs": [
    {
     "name": "stdout",
     "output_type": "stream",
     "text": [
      "0\n",
      "------------\n",
      "1\n",
      "2\n",
      "------------\n",
      "3\n",
      "4\n",
      "5\n",
      "6\n",
      "------------\n",
      "7\n",
      "8\n",
      "9\n",
      "------------\n"
     ]
    }
   ],
   "source": [
    "tree.bfs()"
   ]
  },
  {
   "cell_type": "code",
   "execution_count": 29,
   "metadata": {},
   "outputs": [
    {
     "name": "stdout",
     "output_type": "stream",
     "text": [
      "7\n",
      "3\n",
      "8\n",
      "1\n",
      "9\n",
      "4\n",
      "0\n",
      "5\n",
      "2\n",
      "6\n"
     ]
    }
   ],
   "source": [
    "tree.print_post()"
   ]
  },
  {
   "cell_type": "code",
   "execution_count": 30,
   "metadata": {},
   "outputs": [
    {
     "name": "stdout",
     "output_type": "stream",
     "text": [
      "2\n"
     ]
    }
   ],
   "source": [
    "tree1 = TreeWithParent()\n",
    "tree1.add(2)\n",
    "tree1.print_post()"
   ]
  },
  {
   "cell_type": "code",
   "execution_count": null,
   "metadata": {},
   "outputs": [],
   "source": []
  }
 ],
 "metadata": {
  "kernelspec": {
   "display_name": "Python 3",
   "language": "python",
   "name": "python3"
  },
  "language_info": {
   "codemirror_mode": {
    "name": "ipython",
    "version": 3
   },
   "file_extension": ".py",
   "mimetype": "text/x-python",
   "name": "python",
   "nbconvert_exporter": "python",
   "pygments_lexer": "ipython3",
   "version": "3.6.8"
  }
 },
 "nbformat": 4,
 "nbformat_minor": 2
}
