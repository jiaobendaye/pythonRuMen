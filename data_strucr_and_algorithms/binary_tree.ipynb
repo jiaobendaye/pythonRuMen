{
 "cells": [
  {
   "cell_type": "markdown",
   "metadata": {},
   "source": [
    "## 二叉树\n"
   ]
  },
  {
   "cell_type": "code",
   "execution_count": 2,
   "metadata": {},
   "outputs": [],
   "source": [
    "class Node(object):\n",
    "    def __init__(self, item):\n",
    "        self.elem = item\n",
    "        self.lchild = None\n",
    "        self.rchild = None\n",
    "\n",
    "class Tree(object):\n",
    "    def __init__(self):\n",
    "        self.root = None\n",
    "    \n",
    "    def add(self, item):\n",
    "        node = Node(item)\n",
    "        queue = [self.root]\n",
    "        if self.root is None:\n",
    "            self.root = node\n",
    "            return\n",
    "        \n",
    "        while queue:\n",
    "            cur_node = queue.pop(0)\n",
    "            if cur_node.lchild is None:\n",
    "                cur_node.lchild = node\n",
    "                print('add\\t', node.elem)\n",
    "                return\n",
    "            else:\n",
    "                queue.append(cur_node.lchild)\n",
    "            if cur_node.rchild is None:\n",
    "                cur_node.rchild = node\n",
    "                print('add\\t', node.elem)\n",
    "                return\n",
    "            else:\n",
    "                queue.append(cur_node.rchild)\n",
    "                \n",
    "    def BFS(self):\n",
    "        queue = [self.root]\n",
    "        while queue:\n",
    "            cur_node = queue.pop(0)\n",
    "            print(cur_node.elem)\n",
    "            if cur_node.lchild is not None:\n",
    "                queue.append(cur_node.lchild)\n",
    "\n",
    "            if cur_node.rchild is not None:\n",
    "                queue.append(cur_node.rchild)    \n",
    "    \n",
    "    def preorder(self, node):\n",
    "        if node is None:\n",
    "            return\n",
    "        print(node.elem, end = \"\")\n",
    "        self.preorder(node.lchild)\n",
    "        self.preorder(node.rchild)\n",
    "        \n",
    "    def inorder(self, node):\n",
    "        if node is None:\n",
    "            return        \n",
    "        self.inorder(node.lchild)\n",
    "        print(node.elem, end = \"\")\n",
    "        self.inorder(node.rchild)   \n",
    "    def postorder(self, node):\n",
    "        if node is None:\n",
    "            return\n",
    "        self.postorder(node.lchild)\n",
    "        self.postorder(node.rchild)\n",
    "        print(node.elem, end = \"\")\n",
    "                "
   ]
  },
  {
   "cell_type": "code",
   "execution_count": null,
   "metadata": {},
   "outputs": [],
   "source": [
    "tree = Tree()"
   ]
  },
  {
   "cell_type": "code",
   "execution_count": null,
   "metadata": {},
   "outputs": [],
   "source": [
    "for i in range(10):\n",
    "    tree.add(i)"
   ]
  },
  {
   "cell_type": "code",
   "execution_count": null,
   "metadata": {},
   "outputs": [],
   "source": [
    "tree.BFS()"
   ]
  },
  {
   "cell_type": "code",
   "execution_count": null,
   "metadata": {},
   "outputs": [],
   "source": [
    "tree.preorder(tree.root)"
   ]
  },
  {
   "cell_type": "code",
   "execution_count": 10,
   "metadata": {},
   "outputs": [],
   "source": [
    "def creatTreeByPreAndIn(preOrder, inOrder):\n",
    "    if not preOrder:\n",
    "        return None\n",
    "    rootValue = preOrder[0]\n",
    "    rootIndex = inOrder.index(rootValue)\n",
    "    \n",
    "    rootNode = Node(rootValue)\n",
    "    rootNode.lchild = creatTreeByPreAndIn(preOrder[1:1+rootIndex], inOrder[0:rootIndex])\n",
    "    rootNode.rchild = creatTreeByPreAndIn(preOrder[1+rootIndex:], inOrder[1+rootIndex:])\n",
    "    \n",
    "    return rootNode\n",
    "\n",
    "def postorder(node):\n",
    "    if node is None:\n",
    "        return\n",
    "    postorder(node.lchild)\n",
    "    postorder(node.rchild)\n",
    "    print(node.elem, end = \"\")"
   ]
  },
  {
   "cell_type": "code",
   "execution_count": 17,
   "metadata": {},
   "outputs": [],
   "source": [
    "preOrder = ['a', 'b', 'd', 'e', 'g', 'c', 'f']\n",
    "inOrder = ['d', 'b', 'g', 'e', 'a', 'c', 'f']\n",
    "\n",
    "preOrder1 = ['a', 'b']\n",
    "inOrder1 = ['b', 'a']"
   ]
  },
  {
   "cell_type": "code",
   "execution_count": 18,
   "metadata": {},
   "outputs": [
    {
     "name": "stdout",
     "output_type": "stream",
     "text": [
      "dgebfca"
     ]
    }
   ],
   "source": [
    "root = creatTreeByPreAndIn(preOrder, inOrder)\n",
    "postorder(root)"
   ]
  },
  {
   "cell_type": "code",
   "execution_count": 21,
   "metadata": {},
   "outputs": [],
   "source": [
    "def build_post_without_tree(preOrder,  inOrder):\n",
    "    if not preOrder:\n",
    "        return \"*\"\n",
    "    rootValue = preOrder[0]\n",
    "    rootIndex = inOrder.index(rootValue)\n",
    "    \n",
    "    return build_post_without_tree(\n",
    "        preOrder[1:1+rootIndex], inOrder[0:rootIndex]) + build_post_without_tree(\n",
    "        preOrder[1+rootIndex:], inOrder[1+rootIndex:]) + rootValue\n",
    "    "
   ]
  },
  {
   "cell_type": "code",
   "execution_count": 22,
   "metadata": {},
   "outputs": [
    {
     "name": "stdout",
     "output_type": "stream",
     "text": [
      "**d**g*eb***fca\n"
     ]
    }
   ],
   "source": [
    "print(build_post_without_tree(preOrder, inOrder))"
   ]
  },
  {
   "cell_type": "code",
   "execution_count": null,
   "metadata": {},
   "outputs": [],
   "source": []
  }
 ],
 "metadata": {
  "kernelspec": {
   "display_name": "Python 3",
   "language": "python",
   "name": "python3"
  },
  "language_info": {
   "codemirror_mode": {
    "name": "ipython",
    "version": 3
   },
   "file_extension": ".py",
   "mimetype": "text/x-python",
   "name": "python",
   "nbconvert_exporter": "python",
   "pygments_lexer": "ipython3",
   "version": "3.6.8"
  }
 },
 "nbformat": 4,
 "nbformat_minor": 2
}
