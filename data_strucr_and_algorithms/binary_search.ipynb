{
 "cells": [
  {
   "cell_type": "markdown",
   "metadata": {},
   "source": [
    "## 二分查找\n",
    "* 复杂度\n",
    "    * O(logN)"
   ]
  },
  {
   "cell_type": "code",
   "execution_count": 35,
   "metadata": {},
   "outputs": [],
   "source": [
    "def binary_search(alist, item):\n",
    "    n = len(alist)\n",
    "    \n",
    "    if n > 0:\n",
    "        mid = n // 2\n",
    "        if alist[mid] == item:\n",
    "            return True\n",
    "        elif alist[mid] < item:\n",
    "            return binary_search(alist[mid+1:], item)\n",
    "        else:\n",
    "            return binary_search(alist[:mid], item)\n",
    "    return False\n"
   ]
  },
  {
   "cell_type": "code",
   "execution_count": 39,
   "metadata": {},
   "outputs": [
    {
     "name": "stdout",
     "output_type": "stream",
     "text": [
      "True\n",
      "False\n"
     ]
    }
   ],
   "source": [
    "li = [2,  6, 23, 34, 45]\n",
    "print(binary_search(li, 34))\n",
    "print(binary_search(li, 44))"
   ]
  },
  {
   "cell_type": "code",
   "execution_count": 40,
   "metadata": {},
   "outputs": [],
   "source": [
    "def binary_search_2(alist, item):\n",
    "    n = len(alist)\n",
    "    first = 0\n",
    "    last = n - 1\n",
    "    while first <= last:\n",
    "        mid = (first + last) // 2\n",
    "        if alist[mid] == item:\n",
    "            return True\n",
    "        elif item < alist[mid]:\n",
    "            last = mid - 1\n",
    "        else:\n",
    "            first = mid + 1\n",
    "    return False"
   ]
  },
  {
   "cell_type": "code",
   "execution_count": 43,
   "metadata": {},
   "outputs": [
    {
     "name": "stdout",
     "output_type": "stream",
     "text": [
      "True\n",
      "False\n"
     ]
    }
   ],
   "source": [
    "li = [2,  6, 23, 34, 45]\n",
    "print(binary_search_2(li, 2))\n",
    "print(binary_search_2(li, 44))"
   ]
  },
  {
   "cell_type": "code",
   "execution_count": null,
   "metadata": {},
   "outputs": [],
   "source": []
  }
 ],
 "metadata": {
  "kernelspec": {
   "display_name": "Python 3",
   "language": "python",
   "name": "python3"
  },
  "language_info": {
   "codemirror_mode": {
    "name": "ipython",
    "version": 3
   },
   "file_extension": ".py",
   "mimetype": "text/x-python",
   "name": "python",
   "nbconvert_exporter": "python",
   "pygments_lexer": "ipython3",
   "version": "3.6.8"
  }
 },
 "nbformat": 4,
 "nbformat_minor": 2
}
