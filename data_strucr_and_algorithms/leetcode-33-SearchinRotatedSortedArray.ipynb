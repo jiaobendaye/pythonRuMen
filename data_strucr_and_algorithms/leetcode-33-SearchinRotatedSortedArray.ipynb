{
 "cells": [
  {
   "cell_type": "code",
   "execution_count": 1,
   "metadata": {},
   "outputs": [],
   "source": [
    "from typing import List"
   ]
  },
  {
   "cell_type": "code",
   "execution_count": 2,
   "metadata": {},
   "outputs": [],
   "source": [
    "class Solution:\n",
    "    def binary_search(self, alist, target):\n",
    "        lo = 0\n",
    "        hi = len(alist) - 1\n",
    "        while lo <= hi:\n",
    "            mid = lo + (hi - lo) // 2\n",
    "            if alist[mid] == target:\n",
    "                return mid\n",
    "            elif target < alist[mid]:\n",
    "                hi = mid -1\n",
    "            else:\n",
    "                lo = mid + 1\n",
    "        return -1\n",
    "    def search(self, nums: List[int], target: int) -> int:\n",
    "        if not nums: return -1\n",
    "        maxInd = nums.index(max(nums))\n",
    "        \n",
    "        if target < nums[0]:\n",
    "            tmp = self.binary_search(nums[maxInd+1:], target)\n",
    "            if tmp is not -1:\n",
    "                res = maxInd + tmp + 1\n",
    "                return res\n",
    "            else:\n",
    "                return -1\n",
    "        elif target == nums[0]:\n",
    "            return 0\n",
    "        else:\n",
    "            tmp = self.binary_search(nums[:maxInd+1], target)\n",
    "            if tmp is not -1:\n",
    "                return tmp\n",
    "            else:\n",
    "                return -1"
   ]
  },
  {
   "cell_type": "code",
   "execution_count": 8,
   "metadata": {},
   "outputs": [],
   "source": [
    "ali = [4,5,6,7,9,0,1,2]\n",
    "target = 9\n"
   ]
  },
  {
   "cell_type": "code",
   "execution_count": 9,
   "metadata": {},
   "outputs": [
    {
     "name": "stdout",
     "output_type": "stream",
     "text": [
      "4\n"
     ]
    }
   ],
   "source": [
    "s = Solution()\n",
    "print(s.search(ali, target))"
   ]
  },
  {
   "cell_type": "code",
   "execution_count": null,
   "metadata": {},
   "outputs": [],
   "source": []
  }
 ],
 "metadata": {
  "kernelspec": {
   "display_name": "Python 3",
   "language": "python",
   "name": "python3"
  },
  "language_info": {
   "codemirror_mode": {
    "name": "ipython",
    "version": 3
   },
   "file_extension": ".py",
   "mimetype": "text/x-python",
   "name": "python",
   "nbconvert_exporter": "python",
   "pygments_lexer": "ipython3",
   "version": "3.7.3"
  }
 },
 "nbformat": 4,
 "nbformat_minor": 2
}
