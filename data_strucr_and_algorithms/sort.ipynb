{
 "cells": [
  {
   "cell_type": "markdown",
   "metadata": {},
   "source": [
    "![复杂度](./figure/sort-complexities.png)\n"
   ]
  },
  {
   "cell_type": "markdown",
   "metadata": {},
   "source": [
    "## 冒泡排序\n",
    "* 时间复杂度\n",
    "    * O(n) or O(n^2)\n",
    "* 稳定"
   ]
  },
  {
   "cell_type": "code",
   "execution_count": 1,
   "metadata": {},
   "outputs": [],
   "source": [
    "def bubble_sort(alist):\n",
    "    n = len(alist)\n",
    "    new_list = alist\n",
    "    for i in range(n-1):\n",
    "        for j in range(n-1-i):\n",
    "            if alist[j] > alist[j+1]:\n",
    "                alist[j], alist[j+1] = alist[j+1], alist[j]\n"
   ]
  },
  {
   "cell_type": "code",
   "execution_count": 2,
   "metadata": {},
   "outputs": [
    {
     "name": "stdout",
     "output_type": "stream",
     "text": [
      "[54, 65, 12, 7, 98, 6]\n",
      "[6, 7, 12, 54, 65, 98]\n"
     ]
    }
   ],
   "source": [
    "li = [54, 65, 12, 7, 98, 6]\n",
    "print(li)\n",
    "bubble_sort(li)\n",
    "print(li)"
   ]
  },
  {
   "cell_type": "markdown",
   "metadata": {},
   "source": [
    "## 选择排序\n",
    "* 时间复杂度\n",
    "    * O(n^2)\n",
    "* 稳定"
   ]
  },
  {
   "cell_type": "code",
   "execution_count": 3,
   "metadata": {},
   "outputs": [],
   "source": [
    "def select_sort(alist):\n",
    "    n = len(alist)\n",
    "    for i in range(n-1):\n",
    "        min_ind = i\n",
    "        for j in range(i+1, n):\n",
    "            if alist[j] < alist[min_ind]:\n",
    "                min_ind = j\n",
    "        alist[i], alist[min_ind] = alist[min_ind], alist[i]"
   ]
  },
  {
   "cell_type": "code",
   "execution_count": 4,
   "metadata": {},
   "outputs": [
    {
     "name": "stdout",
     "output_type": "stream",
     "text": [
      "[54, 65, 12, 7, 98, 6]\n",
      "[6, 7, 12, 54, 65, 98]\n"
     ]
    }
   ],
   "source": [
    "li = [54, 65, 12, 7, 98, 6]\n",
    "print(li)\n",
    "select_sort(li)\n",
    "print(li)"
   ]
  },
  {
   "cell_type": "markdown",
   "metadata": {},
   "source": [
    "## 插入算法\n",
    "* 时间复杂度\n",
    "    * O(n^2)\n",
    "* 稳定"
   ]
  },
  {
   "cell_type": "code",
   "execution_count": 5,
   "metadata": {},
   "outputs": [],
   "source": [
    "def insert_sort(alist):\n",
    "    for i in range(1, len(alist)):\n",
    "        for j in range(i, 0, -1):\n",
    "            if alist[j-1] > alist[j]:\n",
    "                alist[j-1], alist[j] = alist[j], alist[j-1]\n",
    "                "
   ]
  },
  {
   "cell_type": "code",
   "execution_count": 6,
   "metadata": {},
   "outputs": [
    {
     "name": "stdout",
     "output_type": "stream",
     "text": [
      "[54, 65, 12, 7, 98, 6]\n",
      "[6, 7, 12, 54, 65, 98]\n"
     ]
    }
   ],
   "source": [
    "li = [54, 65, 12, 7, 98, 6]\n",
    "print(li)\n",
    "insert_sort(li)\n",
    "print(li)"
   ]
  },
  {
   "cell_type": "markdown",
   "metadata": {},
   "source": [
    "## 希尔排序 shell sort\n",
    "插入排序的改进版，当gap = 1时，就是插入排序\n",
    "* 时间复杂度\n",
    "    *  最坏 O(n^2)\n",
    "* 不稳定"
   ]
  },
  {
   "cell_type": "code",
   "execution_count": 5,
   "metadata": {},
   "outputs": [],
   "source": [
    "def shell_sort(alist):\n",
    "    n = len(alist)\n",
    "    # 9, 4, 1\n",
    "    gap = n // 2\n",
    "    while gap > 0:\n",
    "        \n",
    "        for i in range(gap, n):\n",
    "            j = i\n",
    "            while j > 0:\n",
    "                if alist[j] < alist[j-gap]:\n",
    "                    alist[j], alist[j-gap] = alist[j-gap], alist[j]\n",
    "                    j -= gap\n",
    "                else:\n",
    "                    break\n",
    "        gap = gap // 2"
   ]
  },
  {
   "cell_type": "code",
   "execution_count": 6,
   "metadata": {},
   "outputs": [
    {
     "name": "stdout",
     "output_type": "stream",
     "text": [
      "[54, 65, 12, 7, 98, 6]\n",
      "[6, 7, 12, 54, 65, 98]\n"
     ]
    }
   ],
   "source": [
    "li = [54, 65, 12, 7, 98, 6]\n",
    "print(li)\n",
    "shell_sort(li)\n",
    "print(li)"
   ]
  },
  {
   "cell_type": "markdown",
   "metadata": {},
   "source": [
    "## 快速排序\n",
    "* 时间复杂度\n",
    "    *  最坏 O(n^2)\n",
    "    *  最优 O(nlogn)\n",
    "* 不稳定"
   ]
  },
  {
   "cell_type": "code",
   "execution_count": 3,
   "metadata": {},
   "outputs": [],
   "source": [
    "def quick_sort(alist, start, end):\n",
    "    if start >= end:\n",
    "        return \n",
    "    low = start\n",
    "    mid_value = alist[low]\n",
    "    high = end\n",
    "    while low < high:\n",
    "        while low < high and alist[high] >= mid_value:\n",
    "            high -= 1\n",
    "        alist[low] = alist[high]\n",
    "        while low < high and alist[low] < mid_value:\n",
    "            low += 1\n",
    "        alist[high] = alist[low]\n",
    "    alist[low] = mid_value\n",
    "    \n",
    "    quick_sort(alist, start, low-1)\n",
    "    quick_sort(alist, low+1, end)\n",
    "        "
   ]
  },
  {
   "cell_type": "code",
   "execution_count": 4,
   "metadata": {},
   "outputs": [
    {
     "name": "stdout",
     "output_type": "stream",
     "text": [
      "[54, 65, 12, 7, 98, 6]\n",
      "[6, 7, 12, 54, 65, 98]\n"
     ]
    }
   ],
   "source": [
    "li = [54, 65, 12, 7, 98, 6]\n",
    "print(li)\n",
    "quick_sort(li, 0, len(li)-1)\n",
    "print(li)"
   ]
  },
  {
   "cell_type": "markdown",
   "metadata": {},
   "source": [
    "## 归并排序\n",
    "* 时间复杂度\n",
    "    *   O(nlogn)\n",
    "* 不稳定"
   ]
  },
  {
   "cell_type": "code",
   "execution_count": 15,
   "metadata": {},
   "outputs": [],
   "source": [
    "def merge_sort(alist):\n",
    "    if len(alist) <= 1:\n",
    "        return alist\n",
    "    \n",
    "    num = len(alist) // 2\n",
    "    left = merge_sort(alist[:num])\n",
    "    right = merge_sort(alist[num:])\n",
    "    \n",
    "    return merge(left, right)\n",
    "\n",
    "def merge(left, right):\n",
    "    l_pointer, r_pointer = 0, 0\n",
    "    result = []\n",
    "    while l_pointer < len(left) and r_pointer < len(right):\n",
    "        if left[l_pointer] < right[r_pointer]:\n",
    "            result.append(left[l_pointer])\n",
    "            l_pointer += 1\n",
    "        else:\n",
    "            result.append(right[r_pointer])\n",
    "            r_pointer += 1\n",
    "    result += left[l_pointer:]\n",
    "    result += right[r_pointer:]\n",
    "    return result"
   ]
  },
  {
   "cell_type": "code",
   "execution_count": 17,
   "metadata": {},
   "outputs": [
    {
     "name": "stdout",
     "output_type": "stream",
     "text": [
      "[54, 65, 12, 7, 98, 6, 32]\n",
      "[54, 65, 12, 7, 98, 6, 32]\n",
      "[6, 7, 12, 32, 54, 65, 98]\n"
     ]
    }
   ],
   "source": [
    "li = [54, 65, 12, 7, 98, 6, 32]\n",
    "print(li)\n",
    "sorted_li = merge_sort(li)\n",
    "print(li)\n",
    "print(sorted_li)"
   ]
  },
  {
   "cell_type": "code",
   "execution_count": null,
   "metadata": {},
   "outputs": [],
   "source": []
  }
 ],
 "metadata": {
  "kernelspec": {
   "display_name": "Python 3",
   "language": "python",
   "name": "python3"
  },
  "language_info": {
   "codemirror_mode": {
    "name": "ipython",
    "version": 3
   },
   "file_extension": ".py",
   "mimetype": "text/x-python",
   "name": "python",
   "nbconvert_exporter": "python",
   "pygments_lexer": "ipython3",
   "version": "3.6.9"
  }
 },
 "nbformat": 4,
 "nbformat_minor": 2
}
